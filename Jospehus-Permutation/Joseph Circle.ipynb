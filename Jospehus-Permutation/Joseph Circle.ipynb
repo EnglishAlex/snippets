{
 "cells": [
  {
   "cell_type": "code",
   "execution_count": 1,
   "metadata": {},
   "outputs": [],
   "source": [
    "import numpy as np \n",
    "from collections import deque\n",
    "import time \n"
   ]
  },
  {
   "cell_type": "code",
   "execution_count": 4,
   "metadata": {},
   "outputs": [],
   "source": [
    "\n",
    "def solveJ(array, k):\n",
    "    d = deque(array)\n",
    "    permutation = []\n",
    "    while d:\n",
    "        d.rotate(1-k)\n",
    "        item = d.popleft()\n",
    "        permutation.append(item)\n",
    "    return permutation\n",
    "\n",
    "arr = [s+1 for s in range(soldiers)]\n",
    "\n"
   ]
  },
  {
   "cell_type": "code",
   "execution_count": 6,
   "metadata": {},
   "outputs": [
    {
     "name": "stdout",
     "output_type": "stream",
     "text": [
      "7.71509949117899e-05\n"
     ]
    }
   ],
   "source": [
    "soldiers = 1_000_000\n",
    "k = 9\n",
    "\n",
    "start = time.perf_counter()\n",
    "perm = solveJ(arr, k)\n",
    "stop = time.perf_counter()\n",
    "print (stop-start)"
   ]
  },
  {
   "cell_type": "code",
   "execution_count": null,
   "metadata": {},
   "outputs": [],
   "source": []
  }
 ],
 "metadata": {
  "kernelspec": {
   "display_name": "NX",
   "language": "python",
   "name": "python3"
  },
  "language_info": {
   "codemirror_mode": {
    "name": "ipython",
    "version": 3
   },
   "file_extension": ".py",
   "mimetype": "text/x-python",
   "name": "python",
   "nbconvert_exporter": "python",
   "pygments_lexer": "ipython3",
   "version": "3.10.13"
  }
 },
 "nbformat": 4,
 "nbformat_minor": 2
}
