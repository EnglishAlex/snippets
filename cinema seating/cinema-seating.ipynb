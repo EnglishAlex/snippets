{
 "cells": [
  {
   "cell_type": "markdown",
   "metadata": {},
   "source": [
    "# Cinema Seating simulator\n",
    "* couples fill a cinema but leave but there's an empty seat between each couple. \n",
    "* consider how many seats are empty \n",
    "* is there a general approximation for how many seats remain empty?\n",
    "* Apparently  roughly 13.5% of seats go unused - Which is 1/(e^2)  \n",
    "* Reference Joy of X maths book \n",
    "\n",
    "## Up Next\n",
    "* with graphical sumulation doen next is run 1000s of simulations to infer an average fill ration\n",
    "* does it tend to 13.5%\n",
    "* what assumptions do I need for this number to become apparent?\n"
   ]
  },
  {
   "cell_type": "code",
   "execution_count": 1,
   "metadata": {},
   "outputs": [],
   "source": [
    "import random\n",
    "import matplotlib.pyplot as plt\n",
    "import numpy as np\n"
   ]
  },
  {
   "cell_type": "code",
   "execution_count": 2,
   "metadata": {},
   "outputs": [],
   "source": [
    "\n",
    "def simulate_cinema(N):\n",
    "    # Initialize seats (0 = empty, 1 = occupied)\n",
    "    seats = [0] * N\n",
    "    couples = 0\n",
    "    \n",
    "    while True:\n",
    "        # Try placing a couple\n",
    "        found_spot = False\n",
    "        for _ in range(1000):  # Attempt up to 1000 random placements\n",
    "            start = random.randint(0, N - 2)\n",
    "            \n",
    "            # Check if there's room for a couple with a 1-seat buffer\n",
    "            if (\n",
    "                seats[start] == 0 and\n",
    "                seats[start + 1] == 0 and\n",
    "                (start + 2 >= N or seats[start + 2] == 0)\n",
    "            ):\n",
    "                # Place the couple\n",
    "                seats[start] = 1\n",
    "                seats[start + 1] = 1\n",
    "                if start + 2 < N:\n",
    "                    seats[start + 2] = 0  # Ensure 1-seat buffer\n",
    "                couples += 1\n",
    "                found_spot = True\n",
    "                break\n",
    "        \n",
    "        if not found_spot:\n",
    "            # No valid spot found for the next couple\n",
    "            break\n",
    "    \n",
    "    return seats, couples\n"
   ]
  },
  {
   "cell_type": "code",
   "execution_count": 3,
   "metadata": {},
   "outputs": [],
   "source": [
    "\n",
    "def plot_seating(seats):\n",
    "    # Create a graphical representation of the seating arrangement\n",
    "    seat_colors = ['white' if s == 0 else 'blue' for s in seats]\n",
    "    \n",
    "    fig, ax = plt.subplots(figsize=(12, 1))\n",
    "    ax.set_xlim(0, len(seats))\n",
    "    ax.set_ylim(-1, 1)\n",
    "    \n",
    "    # Plot seats as rectangles\n",
    "    for i, color in enumerate(seat_colors):\n",
    "        rect = plt.Rectangle((i, -0.5), 1, 1, color=color, edgecolor='black')\n",
    "        ax.add_patch(rect)\n",
    "    \n",
    "    ax.axis('off')  # Turn off axis for a cleaner look\n",
    "    plt.title(f\"Seating Arrangement ({len(seats)} seats)\")\n",
    "    plt.show()\n"
   ]
  },
  {
   "cell_type": "code",
   "execution_count": 5,
   "metadata": {},
   "outputs": [
    {
     "name": "stdout",
     "output_type": "stream",
     "text": [
      "Couples seated: 69, Unoccupied seats: 62\n"
     ]
    },
    {
     "name": "stderr",
     "output_type": "stream",
     "text": [
      "/var/folders/bh/3z0s10hd1wg28h1kqr632vfr0000gn/T/ipykernel_37120/570603279.py:11: UserWarning: Setting the 'color' property will override the edgecolor or facecolor properties.\n",
      "  rect = plt.Rectangle((i, -0.5), 1, 1, color=color, edgecolor='black')\n"
     ]
    },
    {
     "data": {
      "image/png": "[encoded data removed]",
      "text/plain": [
       "<Figure size 1200x100 with 1 Axes>"
      ]
     },
     "metadata": {},
     "output_type": "display_data"
    }
   ],
   "source": [
    "\n",
    "# Run simulation and plot\n",
    "N = 200  # Number of seats\n",
    "seats, couples = simulate_cinema(N)\n",
    "print(f\"Couples seated: {couples}, Unoccupied seats: {seats.count(0)}\")\n",
    "plot_seating(seats)\n"
   ]
  },
  {
   "cell_type": "code",
   "execution_count": 6,
   "metadata": {},
   "outputs": [
    {
     "name": "stdout",
     "output_type": "stream",
     "text": [
      "Couples seated: 50, Unoccupied seats: 50\n"
     ]
    },
    {
     "data": {
      "image/png": "[encoded data removed]",
      "text/plain": [
       "<Figure size 750x500 with 1 Axes>"
      ]
     },
     "metadata": {},
     "output_type": "display_data"
    }
   ],
   "source": [
    "\n",
    "\n",
    "def simulate_cinema(rows, cols):\n",
    "    # Initialize the 2D seating grid (0 = empty, 1 = occupied)\n",
    "    seats = np.zeros((rows, cols), dtype=int)\n",
    "    couples = 0\n",
    "    \n",
    "    while True:\n",
    "        # Try placing a couple\n",
    "        found_spot = False\n",
    "        for _ in range(1000):  # Attempt up to 1000 random placements\n",
    "            row = random.randint(0, rows - 1)\n",
    "            col = random.randint(0, cols - 2)\n",
    "            \n",
    "            # Check if there's room for a couple with a 1-seat buffer\n",
    "            if (\n",
    "                seats[row, col] == 0 and\n",
    "                seats[row, col + 1] == 0 and\n",
    "                (col + 2 >= cols or seats[row, col + 2] == 0)\n",
    "            ):\n",
    "                # Place the couple\n",
    "                seats[row, col] = 1\n",
    "                seats[row, col + 1] = 1\n",
    "                couples += 1\n",
    "                found_spot = True\n",
    "                break\n",
    "        \n",
    "        if not found_spot:\n",
    "            # No valid spot found for the next couple\n",
    "            break\n",
    "    \n",
    "    return seats, couples\n",
    "\n",
    "def plot_seating(seats):\n",
    "    rows, cols = seats.shape\n",
    "    fig, ax = plt.subplots(figsize=(cols / 2, rows / 2))\n",
    "    \n",
    "    # Plot the grid with colors\n",
    "    ax.imshow(seats, cmap='Blues', extent=[0, cols, 0, rows])\n",
    "    \n",
    "    # Add grid lines for clarity\n",
    "    for x in range(cols + 1):\n",
    "        ax.axvline(x, color='black', linewidth=0.5)\n",
    "    for y in range(rows + 1):\n",
    "        ax.axhline(y, color='black', linewidth=0.5)\n",
    "    \n",
    "    # Adjust the plot\n",
    "    ax.set_xticks(np.arange(cols) + 0.5)\n",
    "    ax.set_yticks(np.arange(rows) + 0.5)\n",
    "    ax.set_xticklabels([])\n",
    "    ax.set_yticklabels([])\n",
    "    ax.tick_params(axis='both', length=0)  # Remove tick marks\n",
    "    ax.set_title(f\"Seating Arrangement ({rows} rows x {cols} seats)\")\n",
    "    plt.gca().invert_yaxis()  # Make (0,0) the top-left corner\n",
    "    plt.show()\n",
    "\n",
    "# Run the simulation and plot\n",
    "rows, cols = 10, 15  # Cinema dimensions\n",
    "seats, couples = simulate_cinema(rows, cols)\n",
    "print(f\"Couples seated: {couples}, Unoccupied seats: {np.sum(seats == 0)}\")\n",
    "plot_seating(seats)\n"
   ]
  },
  {
   "cell_type": "code",
   "execution_count": null,
   "metadata": {},
   "outputs": [],
   "source": []
  }
 ],
 "metadata": {
  "kernelspec": {
   "display_name": "NX",
   "language": "python",
   "name": "python3"
  },
  "language_info": {
   "codemirror_mode": {
    "name": "ipython",
    "version": 3
   },
   "file_extension": ".py",
   "mimetype": "text/x-python",
   "name": "python",
   "nbconvert_exporter": "python",
   "pygments_lexer": "ipython3",
   "version": "3.10.13"
  }
 },
 "nbformat": 4,
 "nbformat_minor": 2
}
